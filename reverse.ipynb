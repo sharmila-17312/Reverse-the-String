{
  "nbformat": 4,
  "nbformat_minor": 0,
  "metadata": {
    "colab": {
      "provenance": []
    },
    "kernelspec": {
      "name": "python3",
      "display_name": "Python 3"
    },
    "language_info": {
      "name": "python"
    }
  },
  "cells": [
    {
      "cell_type": "code",
      "source": [
        "# string_reversal.py\n",
        "\n",
        "user_string = input(\"Enter a string: \")\n",
        "reversed_string = user_string[::-1]\n",
        "print(\"Reversed string:\", reversed_string)"
      ],
      "metadata": {
        "colab": {
          "base_uri": "https://localhost:8080/"
        },
        "id": "zOgQk55uQTro",
        "outputId": "583262d3-3cf6-4f39-9007-f9e876e43131"
      },
      "execution_count": 11,
      "outputs": [
        {
          "output_type": "stream",
          "name": "stdout",
          "text": [
            "Enter a string: Hello Everyone, I am G.Sharmila \n",
            "Reversed string:  alimrahS.G ma I ,enoyrevE olleH\n"
          ]
        }
      ]
    }
  ]
}